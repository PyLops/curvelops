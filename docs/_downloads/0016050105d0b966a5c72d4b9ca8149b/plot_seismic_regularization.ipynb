{
  "cells": [
    {
      "cell_type": "markdown",
      "metadata": {},
      "source": [
        "\n# 5. Seismic Regularization\nThis example shows how to use the Curvelet transform to\ncondition a missing-data seismic regularization problem.\n"
      ]
    },
    {
      "cell_type": "code",
      "execution_count": null,
      "metadata": {
        "collapsed": false
      },
      "outputs": [],
      "source": [
        "# sphinx_gallery_thumbnail_number = 2"
      ]
    },
    {
      "cell_type": "code",
      "execution_count": null,
      "metadata": {
        "collapsed": false
      },
      "outputs": [],
      "source": [
        "import warnings\n\nwarnings.filterwarnings(\"ignore\")\n\nimport matplotlib.pyplot as plt\nimport numpy as np\nimport pylops\nfrom pylops.optimization.sparsity import fista\nfrom scipy.signal import convolve\n\nfrom curvelops import FDCT2D\n\nnp.random.seed(0)\nwarnings.filterwarnings(\"ignore\")"
      ]
    },
    {
      "cell_type": "markdown",
      "metadata": {},
      "source": [
        "# Setup\n\n"
      ]
    },
    {
      "cell_type": "code",
      "execution_count": null,
      "metadata": {
        "collapsed": false
      },
      "outputs": [],
      "source": [
        "inputfile = \"../testdata/seismic.npz\"\ninputdata = np.load(inputfile)\n\nx = inputdata[\"R\"][50, :, ::2]\nx = x / np.abs(x).max()\ntaxis, xaxis = inputdata[\"t\"][::2], inputdata[\"r\"][0]\n\npar = {}\npar[\"nx\"], par[\"nt\"] = x.shape\npar[\"dx\"] = inputdata[\"r\"][0, 1] - inputdata[\"r\"][0, 0]\npar[\"dt\"] = inputdata[\"t\"][1] - inputdata[\"t\"][0]\n\n# Add wavelet\nwav = inputdata[\"wav\"][::2]\nwav_c = np.argmax(wav)\nx = np.apply_along_axis(convolve, 1, x, wav, mode=\"full\")\nx = x[:, wav_c:][:, : par[\"nt\"]]\n\n# Gain\ngain = np.tile((taxis**2)[:, np.newaxis], (1, par[\"nx\"])).T\nx *= gain\n\n# Subsampling locations\nperc_subsampling = 0.5\nNsub = int(np.round(par[\"nx\"] * perc_subsampling))\niava = np.sort(np.random.permutation(np.arange(par[\"nx\"]))[:Nsub])\n\n# Restriction operator\nRop = pylops.Restriction((par[\"nx\"], par[\"nt\"]), iava, axis=0, dtype=\"float64\")\n\ny = Rop @ x\nxadj = Rop.H @ y\n\n# Apply mask\nymask = Rop.mask(x)"
      ]
    },
    {
      "cell_type": "markdown",
      "metadata": {},
      "source": [
        "# Curvelet transform\n\n"
      ]
    },
    {
      "cell_type": "code",
      "execution_count": null,
      "metadata": {
        "collapsed": false
      },
      "outputs": [],
      "source": [
        "DCTOp = FDCT2D((par[\"nx\"], par[\"nt\"]), nbscales=4)\n\nyc = DCTOp @ x\nxcadj = DCTOp.H @ yc"
      ]
    },
    {
      "cell_type": "code",
      "execution_count": null,
      "metadata": {
        "collapsed": false
      },
      "outputs": [],
      "source": [
        "opts_plot = dict(\n    cmap=\"gray\",\n    vmin=-0.1,\n    vmax=0.1,\n    extent=(xaxis[0], xaxis[-1], taxis[-1], taxis[0]),\n)\n\nfig, axs = plt.subplots(1, 2, sharey=True, figsize=(10, 7))\naxs[0].imshow(x.T, **opts_plot)\naxs[0].set_title(\"Data\")\naxs[0].axis(\"tight\")\naxs[1].imshow(np.real(xcadj).T, **opts_plot)\naxs[1].set_title(\"Adjoint curvelet\")\naxs[1].axis(\"tight\")"
      ]
    },
    {
      "cell_type": "markdown",
      "metadata": {},
      "source": [
        "## Reconstruction based on Curvelet transform\n\n"
      ]
    },
    {
      "cell_type": "markdown",
      "metadata": {},
      "source": [
        "Combined modelling operator\n\n"
      ]
    },
    {
      "cell_type": "code",
      "execution_count": null,
      "metadata": {
        "collapsed": false
      },
      "outputs": [],
      "source": [
        "RCop = Rop @ DCTOp.H\nRCop.dims = (RCop.shape[1],)  # flatten\nRCop.dimsd = (RCop.shape[0],)\n\n# Inverse\npl1, _, cost = fista(RCop, y.ravel(), niter=100, eps=1e-3, show=True)\nxl1 = (DCTOp.H @ pl1).real.reshape(x.shape)"
      ]
    },
    {
      "cell_type": "code",
      "execution_count": null,
      "metadata": {
        "collapsed": false
      },
      "outputs": [],
      "source": [
        "fig, axs = plt.subplots(1, 4, sharey=True, figsize=(16, 7))\naxs[0].imshow(x.T, **opts_plot)\naxs[0].set_title(\"Data\")\naxs[0].axis(\"tight\")\naxs[1].imshow(ymask.T, **opts_plot)\naxs[1].set_title(\"Masked data\")\naxs[1].axis(\"tight\")\naxs[2].imshow(xl1.T, **opts_plot)\naxs[2].set_title(\"Reconstructed data\")\naxs[2].axis(\"tight\")\naxs[3].imshow((x - xl1).T, **opts_plot)\naxs[3].set_title(\"Reconstruction error\")\naxs[3].axis(\"tight\")"
      ]
    },
    {
      "cell_type": "code",
      "execution_count": null,
      "metadata": {
        "collapsed": false
      },
      "outputs": [],
      "source": [
        "fig, ax = plt.subplots(figsize=(16, 2))\nax.plot(range(1, len(cost) + 1), cost, \"k\")\nax.set(xlim=[1, len(cost)])\nfig.suptitle(\"FISTA convergence\")"
      ]
    }
  ],
  "metadata": {
    "kernelspec": {
      "display_name": "Python 3",
      "language": "python",
      "name": "python3"
    },
    "language_info": {
      "codemirror_mode": {
        "name": "ipython",
        "version": 3
      },
      "file_extension": ".py",
      "mimetype": "text/x-python",
      "name": "python",
      "nbconvert_exporter": "python",
      "pygments_lexer": "ipython3",
      "version": "3.12.7"
    }
  },
  "nbformat": 4,
  "nbformat_minor": 0
}