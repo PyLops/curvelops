{
  "cells": [
    {
      "cell_type": "code",
      "execution_count": null,
      "metadata": {
        "collapsed": false
      },
      "outputs": [],
      "source": [
        "%matplotlib inline"
      ]
    },
    {
      "cell_type": "markdown",
      "metadata": {},
      "source": [
        "\n# 6. Multiscale Local Directions\nThis example shows how to use the Curvelet transform to\nvisualize local, multiscale preferrential directions in\nan image. Inspired by [Kymatio's Scattering disks](https://www.kymat.io/gallery_2d/plot_scattering_disk.html)_.\n"
      ]
    },
    {
      "cell_type": "code",
      "execution_count": null,
      "metadata": {
        "collapsed": false
      },
      "outputs": [],
      "source": [
        "# sphinx_gallery_thumbnail_number = 3"
      ]
    },
    {
      "cell_type": "code",
      "execution_count": null,
      "metadata": {
        "collapsed": false
      },
      "outputs": [],
      "source": [
        "import matplotlib as mpl\nimport matplotlib.pyplot as plt\nimport numpy as np\nimport numpy.typing as npt\nfrom mpl_toolkits.axes_grid1 import make_axes_locatable\nfrom pylops.signalprocessing import FFT2D\n\nfrom curvelops import FDCT2D\nfrom curvelops.plot import (\n    create_axes_grid,\n    create_inset_axes_grid,\n    overlay_arrows,\n    overlay_disks,\n)\nfrom curvelops.utils import array_split_nd, ndargmax"
      ]
    },
    {
      "cell_type": "markdown",
      "metadata": {},
      "source": [
        "# Input\n\n"
      ]
    },
    {
      "cell_type": "code",
      "execution_count": null,
      "metadata": {
        "collapsed": false
      },
      "outputs": [],
      "source": [
        "inputfile = \"../testdata/sigmoid.npz\"\n\ndata = np.load(inputfile)\ndata = data[\"sigmoid\"]\nnx, nz = data.shape\ndx, dz = 0.005, 0.004\nx, z = np.arange(nx) * dx, np.arange(nz) * dz"
      ]
    },
    {
      "cell_type": "code",
      "execution_count": null,
      "metadata": {
        "collapsed": false
      },
      "outputs": [],
      "source": [
        "aspect = dz / dx\nfigsize_aspect = aspect * nz / nx\nopts_space = dict(\n    extent=(x[0], x[-1], z[-1], z[0]),\n    cmap=\"gray\",\n    interpolation=\"lanczos\",\n    aspect=aspect,\n)\nvmax = 0.5 * np.max(np.abs(data))\nfig, ax = plt.subplots(figsize=(8, figsize_aspect * 8))\nax.imshow(data.T, vmin=-vmax, vmax=vmax, **opts_space)\nax.set(xlabel=\"Position [km]\", ylabel=\"Depth [km]\", title=\"Data\")\nfig.tight_layout()"
      ]
    },
    {
      "cell_type": "markdown",
      "metadata": {},
      "source": [
        "# Understanding Curvelet Disks\n\n"
      ]
    },
    {
      "cell_type": "markdown",
      "metadata": {},
      "source": [
        "First we create and apply curvelet transform.\n\n"
      ]
    },
    {
      "cell_type": "code",
      "execution_count": null,
      "metadata": {
        "collapsed": false
      },
      "outputs": [],
      "source": [
        "Cop = FDCT2D(data.shape, nbscales=4, nbangles_coarse=8, allcurvelets=False)\nd_c = Cop.struct(Cop @ data)"
      ]
    },
    {
      "cell_type": "markdown",
      "metadata": {},
      "source": [
        "Each wedge is mapped to a region of the scattering disk.\nThe first number refers to the scale, the second to the wedge index,\nzero-indexed.\n\nThe disks have the most energy in the direction perpendicular to the\ndirections of minimum change. The following disk is computed with the entire\nimage. We observe that with energy mostly along the top-bottom direction,\nthe directions in the image will be mostly along the left-right direction,\nwhich matches the input data.\n\n"
      ]
    },
    {
      "cell_type": "code",
      "execution_count": null,
      "metadata": {
        "collapsed": false
      },
      "outputs": [],
      "source": [
        "rows, cols = 1, 1\nfig, axes = create_axes_grid(\n    rows,\n    cols,\n    kwargs_subplots=dict(projection=\"polar\"),\n    kwargs_figure=dict(figsize=(4, 4)),\n)\noverlay_disks(d_c, axes, annotate=True)"
      ]
    },
    {
      "cell_type": "markdown",
      "metadata": {},
      "source": [
        "# Multiscale Local Directions\nThe power of the curvelet transform is to provide dip information varying\nwith location and scale.\nBelow we will compute preferrential local directions using an approach\nbased on the 2D FFT that does not differentiate between scales.\n\n"
      ]
    },
    {
      "cell_type": "code",
      "execution_count": null,
      "metadata": {
        "collapsed": false
      },
      "outputs": [],
      "source": [
        "rows, cols = 5, 6\n\n\ndef local_single_scale_dips(data: npt.NDArray, rows: int, cols: int) -> npt.NDArray:\n    kvecs = np.empty((rows, cols, 2))\n    d_split = array_split_nd(data.T, rows, cols)\n\n    for irow in range(kvecs.shape[0]):\n        for icol in range(kvecs.shape[1]):\n            d_loc = d_split[irow][icol].T\n            Fop_loc = FFT2D(\n                d_loc.shape,\n                sampling=[dx, dz],\n                norm=\"ortho\",\n                real=False,\n                ifftshift_before=True,\n                fftshift_after=True,\n                engine=\"scipy\",\n            )\n            d_k_loc = Fop_loc @ d_loc\n\n            kx_loc = Fop_loc.f1\n            kz_loc = Fop_loc.f2\n\n            kx_locmax, kz_locmax = ndargmax(np.abs(d_k_loc[:, kz_loc > 0]))\n\n            k = np.array([kx_loc[kx_locmax], kz_loc[kz_loc > 0][kz_locmax]])\n            kvecs[irow, icol, :] = k / np.linalg.norm(k)\n    return kvecs"
      ]
    },
    {
      "cell_type": "code",
      "execution_count": null,
      "metadata": {
        "collapsed": false
      },
      "outputs": [],
      "source": [
        "diskcmap = \"turbo\"\nrows, cols = 5, 6\nkvecs = local_single_scale_dips(data, rows, cols)\nkvecs *= 0.15 * min(x[-1] - x[0], z[-1] - z[0])\n\nfig, ax = plt.subplots(figsize=(8, figsize_aspect * 8))\nax.imshow(data.T, vmin=-vmax, vmax=vmax, **opts_space)\nax.set(xlabel=\"Position [km]\", ylabel=\"Depth [km]\")\ndivider = make_axes_locatable(ax)\ncax = divider.append_axes(\"right\", size=\"5%\", pad=0.1)\nmpl.colorbar.ColorbarBase(\n    cax,\n    cmap=plt.get_cmap(diskcmap),\n    norm=mpl.colors.Normalize(vmin=0, vmax=1),\n    alpha=0.8,\n)\n\n# Local single-scale directions\noverlay_arrows(kvecs, ax)\n\n# Local multsicale directions\naxesin = create_inset_axes_grid(\n    ax,\n    rows,\n    cols,\n    height=0.6,\n    width=0.6,\n    kwargs_inset_axes=dict(projection=\"polar\"),\n)\noverlay_disks(d_c, axesin, linewidth=0.0, cmap=diskcmap)\nfig.tight_layout()"
      ]
    }
  ],
  "metadata": {
    "kernelspec": {
      "display_name": "Python 3",
      "language": "python",
      "name": "python3"
    },
    "language_info": {
      "codemirror_mode": {
        "name": "ipython",
        "version": 3
      },
      "file_extension": ".py",
      "mimetype": "text/x-python",
      "name": "python",
      "nbconvert_exporter": "python",
      "pygments_lexer": "ipython3",
      "version": "3.10.6"
    }
  },
  "nbformat": 4,
  "nbformat_minor": 0
}