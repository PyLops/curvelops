{
  "cells": [
    {
      "cell_type": "code",
      "execution_count": null,
      "metadata": {
        "collapsed": false
      },
      "outputs": [],
      "source": [
        "%matplotlib inline"
      ]
    },
    {
      "cell_type": "markdown",
      "metadata": {},
      "source": [
        "\n# 1. Visualize a Single Curvelet\nThis example shows a single curvelet coefficient in\nspatial and frequency domains.\n"
      ]
    },
    {
      "cell_type": "code",
      "execution_count": null,
      "metadata": {
        "collapsed": false
      },
      "outputs": [],
      "source": [
        "import matplotlib.pyplot as plt\nimport numpy as np\nfrom matplotlib.ticker import MultipleLocator\n\nfrom curvelops import FDCT2D\nfrom curvelops.plot import create_colorbar"
      ]
    },
    {
      "cell_type": "markdown",
      "metadata": {},
      "source": [
        "# Setup\n\n"
      ]
    },
    {
      "cell_type": "code",
      "execution_count": null,
      "metadata": {
        "collapsed": false
      },
      "outputs": [],
      "source": [
        "m = 512\nn = 512\nx = np.zeros((m, n))\nDCT = FDCT2D(x.shape)"
      ]
    },
    {
      "cell_type": "markdown",
      "metadata": {},
      "source": [
        "# Curvelet Domain\n\n"
      ]
    },
    {
      "cell_type": "code",
      "execution_count": null,
      "metadata": {
        "collapsed": false
      },
      "outputs": [],
      "source": [
        "y = DCT * x\n\n# Convert to a curvelet struct indexed by\n# [scale, wedge (angle), x, y]\ny_reshape = DCT.struct(y)"
      ]
    },
    {
      "cell_type": "markdown",
      "metadata": {},
      "source": [
        "# Select single curvelet\n\n"
      ]
    },
    {
      "cell_type": "code",
      "execution_count": null,
      "metadata": {
        "collapsed": false
      },
      "outputs": [],
      "source": [
        "s = 4\nw = 0\na, b = y_reshape[s][w].shape\nnormalization = np.sqrt(y_reshape[s][w].size)\ny_reshape[s][w][a // 2, b // 2] = 1 * normalization\ny_reshape[s][w + len(y_reshape[s]) // 2][a // 2, b // 2] = -1j * normalization\n\ny = DCT.vect(y_reshape)"
      ]
    },
    {
      "cell_type": "markdown",
      "metadata": {},
      "source": [
        "# Perform adjoint transform and reshape\n\n"
      ]
    },
    {
      "cell_type": "code",
      "execution_count": null,
      "metadata": {
        "collapsed": false
      },
      "outputs": [],
      "source": [
        "x = DCT.H @ y"
      ]
    },
    {
      "cell_type": "markdown",
      "metadata": {},
      "source": [
        "# F-K domain\n\n"
      ]
    },
    {
      "cell_type": "code",
      "execution_count": null,
      "metadata": {
        "collapsed": false
      },
      "outputs": [],
      "source": [
        "x_fk = np.fft.fftshift(np.fft.fft2(np.fft.ifftshift(x), norm=\"ortho\"))"
      ]
    },
    {
      "cell_type": "markdown",
      "metadata": {},
      "source": [
        "# Visualize\n\n"
      ]
    },
    {
      "cell_type": "code",
      "execution_count": null,
      "metadata": {
        "collapsed": false
      },
      "outputs": [],
      "source": [
        "vmin, vmax = 0.8 * np.array([-1, 1]) * np.abs(np.max(x))\nfig, ax = plt.subplots(2, 2, figsize=(8, 8), sharex=\"row\", sharey=\"row\")\n\nim = ax[0, 0].imshow(x.real.T, cmap=\"gray\", vmin=vmin, vmax=vmax)\ncreate_colorbar(im, ax[0, 0])\n\nim = ax[0, 1].imshow(x.imag.T, cmap=\"gray\", vmin=vmin, vmax=vmax)\ncreate_colorbar(im, ax[0, 1])\n\nim = ax[1, 0].imshow(np.abs(x_fk).T, cmap=\"turbo\", vmin=0)\ncreate_colorbar(im, ax[1, 0])\n\nmask = np.abs(x_fk) > 0.01 * np.abs(x_fk).max()\nim = ax[1, 1].imshow(\n    (mask * np.angle(x_fk, deg=True)).T,\n    cmap=\"twilight_shifted\",\n    vmin=-180,\n    vmax=180,\n)\ncax, cb = create_colorbar(im, ax[1, 1])\ncax.get_yaxis().set_major_locator(MultipleLocator(45))\n\n\nax[0, 0].set(\n    xlim=(m // 2 - 50, m // 2 + 50),\n    ylim=(n // 2 - 50, n // 2 + 50),\n    title=\"Space domain (Real) magnified\",\n)\nax[0, 1].set(title=\"Space domain (Imag) magnified\")\nax[1, 0].set(title=\"Frequency domain (Abs)\")\nax[1, 1].set(title=\"Frequency domain (Phase)\")\nfig.tight_layout()"
      ]
    }
  ],
  "metadata": {
    "kernelspec": {
      "display_name": "Python 3",
      "language": "python",
      "name": "python3"
    },
    "language_info": {
      "codemirror_mode": {
        "name": "ipython",
        "version": 3
      },
      "file_extension": ".py",
      "mimetype": "text/x-python",
      "name": "python",
      "nbconvert_exporter": "python",
      "pygments_lexer": "ipython3",
      "version": "3.10.6"
    }
  },
  "nbformat": 4,
  "nbformat_minor": 0
}