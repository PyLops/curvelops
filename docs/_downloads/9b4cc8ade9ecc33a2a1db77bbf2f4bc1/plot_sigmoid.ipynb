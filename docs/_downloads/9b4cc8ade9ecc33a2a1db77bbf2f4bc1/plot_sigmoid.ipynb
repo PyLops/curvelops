{
  "cells": [
    {
      "cell_type": "code",
      "execution_count": null,
      "metadata": {
        "collapsed": false
      },
      "outputs": [],
      "source": [
        "%matplotlib inline"
      ]
    },
    {
      "cell_type": "markdown",
      "metadata": {},
      "source": [
        "\n# 2. Sigmoid Example\nThis example shows the effectiveness of curvelets in describing a typical\nsubsurface structure. It compares the Curvelet transform with the Wavelet\nand Seislet transforms.\n"
      ]
    },
    {
      "cell_type": "code",
      "execution_count": null,
      "metadata": {
        "collapsed": false
      },
      "outputs": [],
      "source": [
        "# sphinx_gallery_thumbnail_number = 3"
      ]
    },
    {
      "cell_type": "code",
      "execution_count": null,
      "metadata": {
        "collapsed": false
      },
      "outputs": [],
      "source": [
        "import matplotlib.pyplot as plt\nimport numpy as np\nimport pylops\n\nfrom curvelops import FDCT2D\n\ntry:\n    # Progress bars\n    from tqdm.notebook import tqdm\nexcept ImportError:\n\n    def tqdm(x):\n        return x\n\n    print(\"Try out tqdm for progress bars!\")"
      ]
    },
    {
      "cell_type": "markdown",
      "metadata": {},
      "source": [
        "# Input data\n\n"
      ]
    },
    {
      "cell_type": "code",
      "execution_count": null,
      "metadata": {
        "collapsed": false
      },
      "outputs": [],
      "source": [
        "inputfile = \"../testdata/sigmoid.npz\"\n\nd = np.load(inputfile)\nd = d[\"sigmoid\"]\nnx, nt = d.shape\ndx, dt = 8, 0.004\nx, t = np.arange(nx) * dx, np.arange(nt) * dt"
      ]
    },
    {
      "cell_type": "code",
      "execution_count": null,
      "metadata": {
        "collapsed": false
      },
      "outputs": [],
      "source": [
        "clip = 0.5 * np.max(np.abs(d))\nopts = dict(\n    aspect=\"auto\",\n    extent=(x[0], x[-1], t[-1], t[0]),\n    vmin=-clip,\n    vmax=clip,\n    cmap=\"gray\",\n    interpolation=\"nearest\",\n)\n\nfig, ax = plt.subplots(figsize=(8, 6), sharey=True, sharex=True)\nax.imshow(d.T, **opts)\nax.set(xlabel=\"Position [m]\", ylabel=\"Time [s]\", title=\"Data\")\nfig.tight_layout()"
      ]
    },
    {
      "cell_type": "markdown",
      "metadata": {},
      "source": [
        "# Sparsifying Transforms\n* Seislet\n* Wavelet\n* Curvelet\n\n"
      ]
    },
    {
      "cell_type": "code",
      "execution_count": null,
      "metadata": {
        "collapsed": false
      },
      "outputs": [],
      "source": [
        "# Seislet\nslope = -pylops.utils.signalprocessing.slope_estimate(d.T, dt, dx, smooth=6)[0]\nSop = pylops.signalprocessing.Seislet(slope.T, sampling=(dx, dt))\nSop.shape"
      ]
    },
    {
      "cell_type": "code",
      "execution_count": null,
      "metadata": {
        "collapsed": false
      },
      "outputs": [],
      "source": [
        "# Wavelet\nWop = pylops.signalprocessing.Seislet(np.zeros_like(slope.T), sampling=(dx, dt))\nWop.shape"
      ]
    },
    {
      "cell_type": "code",
      "execution_count": null,
      "metadata": {
        "collapsed": false
      },
      "outputs": [],
      "source": [
        "# Curvelet\nCop = FDCT2D(d.shape)\nCop.shape"
      ]
    },
    {
      "cell_type": "code",
      "execution_count": null,
      "metadata": {
        "collapsed": false
      },
      "outputs": [],
      "source": [
        "def reconstruct(data, op, perc=0.1):\n    \"\"\"\n    Convenience function to calculate reconstruction using top\n    `perc` percent of coefficients of a given operator `op`.\n    \"\"\"\n    y = op * data.ravel()\n    denoise = np.zeros_like(y)\n\n    # Order coefficients by strength\n    strong_idx = np.argsort(-np.abs(y))\n    strong = np.abs(y)[strong_idx]\n\n    # Select only top `perc`% coefficients\n    strong_idx = strong_idx[: int(np.rint(len(strong_idx) * perc))]\n    denoise[strong_idx] = y[strong_idx]\n\n    data_denoise = op.inverse(denoise).reshape(data.shape)\n    return data_denoise.real, strong"
      ]
    },
    {
      "cell_type": "code",
      "execution_count": null,
      "metadata": {
        "collapsed": false
      },
      "outputs": [],
      "source": [
        "# Reconstruct data with only 10% of the strongest coefficients in sparse domain\nperc = 0.1\nd_seis, seis_strong = reconstruct(d, Sop, perc=perc)\nd_dwt, dwt_strong = reconstruct(d, Wop, perc=perc)\nd_dct, dct_strong = reconstruct(d, Cop, perc=perc)"
      ]
    },
    {
      "cell_type": "code",
      "execution_count": null,
      "metadata": {
        "collapsed": false
      },
      "outputs": [],
      "source": [
        "fig, ax = plt.subplots()\nax.semilogy(\n    np.linspace(0, 100, len(seis_strong), endpoint=True),\n    seis_strong / seis_strong[0],\n    label=\"Seislet\",\n)\nax.semilogy(\n    np.linspace(0, 100, len(dwt_strong), endpoint=True),\n    dwt_strong / dwt_strong[0],\n    label=\"Wavelet\",\n)\nax.semilogy(\n    np.linspace(0, 100, len(dct_strong), endpoint=True),\n    dct_strong / dct_strong[0],\n    label=\"Curvelet\",\n)\nax.set(\n    xlim=(0, 100),\n    ylim=(1e-4, 1),\n    xlabel=\"Coefficients [%]\",\n    ylabel=\"Coefficient strength [dB]\",\n    title=\"Transform Coefficients\",\n)\nax.axvline(100 * perc, color=\"k\", label=f\"{100*perc:.0f}%\")\nax.legend()\nfig.tight_layout()"
      ]
    },
    {
      "cell_type": "code",
      "execution_count": null,
      "metadata": {
        "collapsed": false
      },
      "outputs": [],
      "source": [
        "gain = 4\nfig, ax = plt.subplots(2, 3, figsize=(14, 8), sharey=True, sharex=True)\nfor i, (d_trans, title) in enumerate(\n    zip([d_seis, d_dwt, d_dct], [\"Seislet\", \"Wavelet\", \"Curvelet\"])\n):\n    ax[0, i].imshow(d_trans.T, **opts)\n    im = ax[1, i].imshow((d - d_trans).T, **opts)\n    im.set_clim(vmin=-clip / gain, vmax=clip / gain)\n    ax[0, i].set(title=f\"{title} ({100*perc:.0f}% of components)\")\n    ax[1, i].set(title=f\"{title} Error x {gain}\", xlabel=\"Position [m]\")\nax[0, 0].set(ylabel=\"Time [s]\")\nax[1, 0].set(ylabel=\"Time [s]\")\nfig.tight_layout()"
      ]
    },
    {
      "cell_type": "code",
      "execution_count": null,
      "metadata": {
        "collapsed": false
      },
      "outputs": [],
      "source": [
        "# Calculate error in reconstruction by number of coefficients used\nerror_seis = []\nerror_dwt = []\nerror_dct = []\nfor perc in tqdm(2 ** np.arange(7) / 100.0):\n    d_seis = reconstruct(d, Sop, perc=perc)[0]\n    d_dwt = reconstruct(d, Wop, perc=perc)[0]\n    d_dct = reconstruct(d, Cop, perc=perc)[0]\n    error_seis.append(np.linalg.norm(d_seis - d))\n    error_dwt.append(np.linalg.norm(d_dwt - d))\n    error_dct.append(np.linalg.norm(d_dct - d))"
      ]
    },
    {
      "cell_type": "code",
      "execution_count": null,
      "metadata": {
        "collapsed": false
      },
      "outputs": [],
      "source": [
        "fig, ax = plt.subplots()\nax.semilogy(2 ** np.arange(7), error_seis, \"o-\", label=\"Seislet\")\nax.semilogy(2 ** np.arange(7), error_dwt, \"o-\", label=\"Wavelet\")\nax.semilogy(2 ** np.arange(7), error_dct, \"o-\", label=\"Curvelet\")\nax.set(xlabel=\"Percentage of coefficients\", ylabel=r\"Error ($L_2$ norm)\")\nax.legend()\nfig.tight_layout()"
      ]
    }
  ],
  "metadata": {
    "kernelspec": {
      "display_name": "Python 3",
      "language": "python",
      "name": "python3"
    },
    "language_info": {
      "codemirror_mode": {
        "name": "ipython",
        "version": 3
      },
      "file_extension": ".py",
      "mimetype": "text/x-python",
      "name": "python",
      "nbconvert_exporter": "python",
      "pygments_lexer": "ipython3",
      "version": "3.10.6"
    }
  },
  "nbformat": 4,
  "nbformat_minor": 0
}