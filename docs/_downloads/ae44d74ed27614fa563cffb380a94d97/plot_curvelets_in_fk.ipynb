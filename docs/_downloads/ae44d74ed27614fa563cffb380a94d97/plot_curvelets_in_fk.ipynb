{
  "cells": [
    {
      "cell_type": "markdown",
      "metadata": {},
      "source": [
        "\n# 4. Curvelet Coefficients in the FK domain\nThis example shows the regions in the FK domain where each\ncurvelet coefficient occupies.\n"
      ]
    },
    {
      "cell_type": "code",
      "execution_count": null,
      "metadata": {
        "collapsed": false
      },
      "outputs": [],
      "source": [
        "# sphinx_gallery_thumbnail_number = 5"
      ]
    },
    {
      "cell_type": "code",
      "execution_count": null,
      "metadata": {
        "collapsed": false
      },
      "outputs": [],
      "source": [
        "import matplotlib as mpl\nimport matplotlib.pyplot as plt\nimport numpy as np\n\nfrom curvelops import FDCT2D"
      ]
    },
    {
      "cell_type": "markdown",
      "metadata": {},
      "source": [
        "# Setup\n\n"
      ]
    },
    {
      "cell_type": "code",
      "execution_count": null,
      "metadata": {
        "collapsed": false
      },
      "outputs": [],
      "source": [
        "nx, nz = 301, 201\ndata_empty = np.zeros((nx, nz))"
      ]
    },
    {
      "cell_type": "code",
      "execution_count": null,
      "metadata": {
        "collapsed": false
      },
      "outputs": [],
      "source": [
        "nbscales = 4\nnbangles_coarse = 8\nallcurvelets = False"
      ]
    },
    {
      "cell_type": "code",
      "execution_count": null,
      "metadata": {
        "collapsed": false
      },
      "outputs": [],
      "source": [
        "Cop = FDCT2D(\n    data_empty.shape,\n    nbscales=nbscales,\n    nbangles_coarse=nbangles_coarse,\n    allcurvelets=allcurvelets,\n)"
      ]
    },
    {
      "cell_type": "code",
      "execution_count": null,
      "metadata": {
        "collapsed": false
      },
      "outputs": [],
      "source": [
        "empty_fdct = Cop @ data_empty\n\n# Convert to a curvelet struct indexed by\n# [scale, wedge (angle), z, x]\nempty_fdct_struct = Cop.struct(empty_fdct)"
      ]
    },
    {
      "cell_type": "code",
      "execution_count": null,
      "metadata": {
        "collapsed": false
      },
      "outputs": [],
      "source": [
        "def create_dirac_wedge(Cop, scale, wedge):\n    d = np.zeros(Cop.dims)\n    wedge_only_fdct = Cop @ d\n\n    wedge_only_fdct_struct = Cop.struct(wedge_only_fdct)\n    normalization = np.sqrt(wedge_only_fdct_struct[scale][wedge].size)\n    iz, ix = wedge_only_fdct_struct[scale][wedge].shape\n\n    wedge_only_fdct_struct[scale][wedge][iz // 2, ix // 2] = normalization\n    wedge_only_fdct = Cop.vect(wedge_only_fdct_struct)\n    wedge_only = Cop.H @ wedge_only_fdct\n    return wedge_only"
      ]
    },
    {
      "cell_type": "markdown",
      "metadata": {},
      "source": [
        "# Plot Wedges of each Scale\n\n"
      ]
    },
    {
      "cell_type": "markdown",
      "metadata": {},
      "source": [
        "Colormap to be used in all plots below\n\n"
      ]
    },
    {
      "cell_type": "code",
      "execution_count": null,
      "metadata": {
        "collapsed": false
      },
      "outputs": [],
      "source": [
        "fig, ax = plt.subplots(figsize=(6, 1))\ncol_map = plt.get_cmap(\"turbo\")\nmpl.colorbar.ColorbarBase(\n    ax,\n    cmap=col_map,\n    orientation=\"horizontal\",\n    norm=mpl.colors.Normalize(vmin=0, vmax=1),\n)\nfig.tight_layout()"
      ]
    },
    {
      "cell_type": "code",
      "execution_count": null,
      "metadata": {
        "collapsed": false
      },
      "outputs": [],
      "source": [
        "wedge_fk_abs = np.zeros_like(data_empty)\nfor j, fdct_scale in enumerate(empty_fdct_struct, start=1):\n    rows = int(np.floor(np.sqrt(len(fdct_scale))))\n    fig, axes = plt.subplots(\n        int(np.ceil(len(fdct_scale) / rows)),\n        rows,\n        figsize=(5 * rows, 3 * rows),\n    )\n    fig.suptitle(\n        f\"Scale {j} ({len(fdct_scale)} wedge{'s' if len(fdct_scale) > 1 else ''})\"\n    )\n    axes = np.atleast_1d(axes).ravel()\n    wedge_scale_fk_abs = np.zeros_like(data_empty)\n    for iw, (fdct_wedge, ax) in enumerate(zip(fdct_scale, axes), start=1):\n        dirac_wedge = create_dirac_wedge(Cop, j - 1, iw - 1)\n        dirac_wedge_fk = np.fft.fftshift(\n            np.fft.fft2(np.fft.ifftshift(dirac_wedge), norm=\"ortho\")\n        )\n        wedge_scale_fk_abs += np.abs(dirac_wedge_fk)\n\n        ax.imshow(np.abs(dirac_wedge_fk).T, cmap=\"turbo\", vmin=0, vmax=1)\n        if len(fdct_scale) > 1:\n            ax.set(title=f\"Wedge {iw}\")\n        ax.axis(\"off\")\n        fig.tight_layout()\n    wedge_fk_abs += wedge_scale_fk_abs\n    if len(fdct_scale) > 1:\n        fig, ax = plt.subplots(figsize=(5, 3))\n        fig.suptitle(f\"Scale {j} (sum of all wedges)\")\n        ax.imshow(wedge_scale_fk_abs.T, cmap=\"turbo\", vmin=0, vmax=1)\n        ax.axis(\"off\")\n        fig.tight_layout()\n\nfig, ax = plt.subplots(figsize=(5, 3))\nfig.suptitle(\"Sum of all wedges of all scales)\")\nax.imshow(wedge_fk_abs.T, cmap=\"turbo\", vmin=0, vmax=1)\nax.axis(\"off\")\nfig.tight_layout()"
      ]
    },
    {
      "cell_type": "markdown",
      "metadata": {},
      "source": [
        "# Plot Dirac in Space domain\n\n"
      ]
    },
    {
      "cell_type": "code",
      "execution_count": null,
      "metadata": {
        "collapsed": false
      },
      "outputs": [],
      "source": [
        "dirac_all_fdct_struct = Cop.struct(empty_fdct.copy())\nfor fdct_scale in dirac_all_fdct_struct:\n    for fdct_wedge in fdct_scale:\n        normalization = np.sqrt(fdct_wedge.size)\n        iz, ix = fdct_wedge.shape\n        fdct_wedge[iz // 2, ix // 2] = normalization * (1 + 1j)\n        fdct_wedge[iz // 2 + 1, ix // 2] = normalization * (1 + 1j)\n        fdct_wedge[iz // 2, ix // 2 + 1] = normalization * (1 + 1j)\n        fdct_wedge[iz // 2 + 1, ix // 2 + 1] = normalization * (1 + 1j)\n\ndata_dirac = Cop.H @ Cop.vect(dirac_all_fdct_struct)\ndata_dirac = (data_dirac.real + data_dirac.imag) / np.sqrt(2)\nvmax = 0.5 * np.sqrt(data_dirac.size)\n\nfig, ax = plt.subplots(figsize=(5, 3))\nax.imshow(data_dirac.T, cmap=\"gray\", vmin=-vmax, vmax=vmax)\nax.set(\n    xlim=(nx // 2 - 30, nx // 2 + 30),\n    ylim=(nz // 2 + 30, nz // 2 - 30),\n    title=\"Space domain magnified\",\n)\nfig.tight_layout()"
      ]
    }
  ],
  "metadata": {
    "kernelspec": {
      "display_name": "Python 3",
      "language": "python",
      "name": "python3"
    },
    "language_info": {
      "codemirror_mode": {
        "name": "ipython",
        "version": 3
      },
      "file_extension": ".py",
      "mimetype": "text/x-python",
      "name": "python",
      "nbconvert_exporter": "python",
      "pygments_lexer": "ipython3",
      "version": "3.12.7"
    }
  },
  "nbformat": 4,
  "nbformat_minor": 0
}