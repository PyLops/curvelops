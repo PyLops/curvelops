{
  "cells": [
    {
      "cell_type": "markdown",
      "metadata": {},
      "source": [
        "\n# 3. Visualizing Curvelet Coefficients\nThis example shows the how to visualize curvelet coefficients of an image,\nusing as example a typical subsurface structure.\n"
      ]
    },
    {
      "cell_type": "code",
      "execution_count": null,
      "metadata": {
        "collapsed": false
      },
      "outputs": [],
      "source": [
        "# sphinx_gallery_thumbnail_number = 3"
      ]
    },
    {
      "cell_type": "code",
      "execution_count": null,
      "metadata": {
        "collapsed": false
      },
      "outputs": [],
      "source": [
        "import matplotlib.pyplot as plt\nimport numpy as np\n\nfrom curvelops import FDCT2D, apply_along_wedges, curveshow"
      ]
    },
    {
      "cell_type": "markdown",
      "metadata": {},
      "source": [
        "# Input data\n\n"
      ]
    },
    {
      "cell_type": "code",
      "execution_count": null,
      "metadata": {
        "collapsed": false
      },
      "outputs": [],
      "source": [
        "inputfile = \"../testdata/sigmoid.npz\"\n\nd = np.load(inputfile)\nd = d[\"sigmoid\"]\nnx, nt = d.shape\ndx, dt = 0.005, 0.004\nx, t = np.arange(nx) * dx, np.arange(nt) * dt"
      ]
    },
    {
      "cell_type": "code",
      "execution_count": null,
      "metadata": {
        "collapsed": false
      },
      "outputs": [],
      "source": [
        "aspect = dt / dx\nopts_plot = dict(\n    extent=(x[0], x[-1], t[-1], t[0]),\n    cmap=\"gray\",\n    interpolation=\"lanczos\",\n    aspect=aspect,\n)\nvmax = 0.5 * np.max(np.abs(d))\nfigsize_aspect = aspect * nt / nx\nfig, ax = plt.subplots(figsize=(8, figsize_aspect * 8), sharey=True, sharex=True)\nax.imshow(d.T, vmin=-vmax, vmax=vmax, **opts_plot)\nax.set(xlabel=\"Position [m]\", ylabel=\"Time [s]\", title=f\"Data shape {d.shape}\")\nfig.tight_layout()"
      ]
    },
    {
      "cell_type": "markdown",
      "metadata": {},
      "source": [
        "# Create Curvelet Transform\n\n"
      ]
    },
    {
      "cell_type": "code",
      "execution_count": null,
      "metadata": {
        "collapsed": false
      },
      "outputs": [],
      "source": [
        "nbscales = 4\nnbangles_coarse = 8\nallcurvelets = False  # Last scale will be a wavelet transform"
      ]
    },
    {
      "cell_type": "code",
      "execution_count": null,
      "metadata": {
        "collapsed": false
      },
      "outputs": [],
      "source": [
        "Cop = FDCT2D(\n    d.shape,\n    nbscales=nbscales,\n    nbangles_coarse=nbangles_coarse,\n    allcurvelets=allcurvelets,\n)"
      ]
    },
    {
      "cell_type": "markdown",
      "metadata": {},
      "source": [
        "Convert to a list of lists of ndarrays.\n\n"
      ]
    },
    {
      "cell_type": "code",
      "execution_count": null,
      "metadata": {
        "collapsed": false
      },
      "outputs": [],
      "source": [
        "d_fdct_struct = Cop.struct(Cop @ d)"
      ]
    },
    {
      "cell_type": "markdown",
      "metadata": {},
      "source": [
        "# Real part of FDCT coefficients\nCurvelet coefficients are essentially directionally-filtered, shrunk versions\nof the original signal. Note that the \"shrinking\" does not preserve aspect\nratio.\n\n"
      ]
    },
    {
      "cell_type": "code",
      "execution_count": null,
      "metadata": {
        "collapsed": false
      },
      "outputs": [],
      "source": [
        "for j, c_scale in enumerate(d_fdct_struct, start=1):\n    nangles = len(c_scale)\n    rows = int(np.floor(np.sqrt(nangles)))\n    cols = int(np.ceil(nangles / rows))\n    fig, axes = plt.subplots(\n        rows,\n        cols,\n        figsize=(5 * rows, figsize_aspect * 5 * rows),\n    )\n    fig.suptitle(f\"Scale {j} ({len(c_scale)} wedge{'s' if len(c_scale) > 1 else ''})\")\n    axes = np.atleast_1d(axes).ravel()\n    vmax = 0.5 * max(np.abs(Cweg).max() for Cweg in c_scale)\n    for iw, (fdct_wedge, ax) in enumerate(zip(c_scale, axes), start=1):\n        # Note that wedges are transposed in comparison to the input vector.\n        # This is due to the underlying implementation of the transform. In\n        # order to plot in the same manner as the data, we must first\n        # transpose the wedge. We will using the transpose of the wedge for\n        # visualization.\n        c = fdct_wedge.real.T\n        ax.imshow(c.T, vmin=-vmax, vmax=vmax, **opts_plot)\n        ax.set(title=f\"Wedge {iw} shape {c.shape}\")\n        ax.axis(\"off\")\n    fig.tight_layout()"
      ]
    },
    {
      "cell_type": "markdown",
      "metadata": {},
      "source": [
        "# Imaginagy part of FDCT coefficients\nCurvelops includes much of the above logic wrapped in the following\n:py:class:`curvelops.plot.cuveshow`. Since we\n\n"
      ]
    },
    {
      "cell_type": "code",
      "execution_count": null,
      "metadata": {
        "collapsed": false
      },
      "outputs": [],
      "source": [
        "# Normalize each coefficient by max abs\ny_norm = apply_along_wedges(d_fdct_struct, lambda w, *_: w / np.abs(w).max())"
      ]
    },
    {
      "cell_type": "code",
      "execution_count": null,
      "metadata": {
        "collapsed": false
      },
      "outputs": [],
      "source": [
        "figs = curveshow(\n    y_norm,\n    real=False,\n    kwargs_imshow={**opts_plot, \"vmin\": -0.5, \"vmax\": 0.5},\n)"
      ]
    }
  ],
  "metadata": {
    "kernelspec": {
      "display_name": "Python 3",
      "language": "python",
      "name": "python3"
    },
    "language_info": {
      "codemirror_mode": {
        "name": "ipython",
        "version": 3
      },
      "file_extension": ".py",
      "mimetype": "text/x-python",
      "name": "python",
      "nbconvert_exporter": "python",
      "pygments_lexer": "ipython3",
      "version": "3.12.7"
    }
  },
  "nbformat": 4,
  "nbformat_minor": 0
}